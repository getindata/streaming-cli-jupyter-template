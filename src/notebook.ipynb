{
 "cells": [
  {
   "cell_type": "code",
   "execution_count": null,
   "id": "50206bb2",
   "metadata": {},
   "outputs": [],
   "source": [
    "%reload_ext streamingcli.jupyter.integrations"
   ]
  },
  {
   "cell_type": "code",
   "execution_count": null,
   "id": "292a3734",
   "metadata": {},
   "outputs": [],
   "source": [
    "%%execute_flink_sql_local_cluster\n",
    "CREATE TABLE Results (\n",
    "    word varchar) WITH (\n",
    "        'connector.type' = 'filesystem',\n",
    "        'format.type' = 'csv',\n",
    "        'connector.path' = 'test.csv')"
   ]
  },
  {
   "cell_type": "code",
   "execution_count": null,
   "id": "b7b53024",
   "metadata": {},
   "outputs": [],
   "source": [
    "%%execute_flink_sql_local_cluster\n",
    "DESCRIBE Results"
   ]
  },
  {
   "cell_type": "code",
   "execution_count": null,
   "id": "2d0aa930",
   "metadata": {},
   "outputs": [],
   "source": [
    "%%execute_flink_sql_local_cluster\n",
    "INSERT INTO Results VALUES('hello'), ('hello2')"
   ]
  },
  {
   "cell_type": "code",
   "execution_count": null,
   "id": "c2c112b3",
   "metadata": {},
   "outputs": [],
   "source": []
  }
 ],
 "metadata": {
  "kernelspec": {
   "display_name": "Python 3 (ipykernel)",
   "language": "python",
   "name": "python3"
  },
  "language_info": {
   "codemirror_mode": {
    "name": "ipython",
    "version": 3
   },
   "file_extension": ".py",
   "mimetype": "text/x-python",
   "name": "python",
   "nbconvert_exporter": "python",
   "pygments_lexer": "ipython3",
   "version": "3.8.12"
  }
 },
 "nbformat": 4,
 "nbformat_minor": 5
}
